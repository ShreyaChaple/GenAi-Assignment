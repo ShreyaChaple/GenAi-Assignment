{
  "nbformat": 4,
  "nbformat_minor": 0,
  "metadata": {
    "colab": {
      "provenance": []
    },
    "kernelspec": {
      "name": "python3",
      "display_name": "Python 3"
    },
    "language_info": {
      "name": "python"
    }
  },
  "cells": [
    {
      "cell_type": "code",
      "execution_count": 1,
      "metadata": {
        "id": "7w22-5MUUUZq"
      },
      "outputs": [],
      "source": [
        "import pandas as pd"
      ]
    },
    {
      "cell_type": "code",
      "source": [
        "file_path = '/content/Auto_Regressive_Model_Diffusion_Model_V_1.0.xlsx'\n",
        "\n",
        "data = pd.read_excel(file_path, sheet_name='Base_Data_Set')"
      ],
      "metadata": {
        "id": "LhtpG0hzUWUs"
      },
      "execution_count": 5,
      "outputs": []
    },
    {
      "cell_type": "code",
      "source": [
        "data = data[['Symptoms - 1', 'Symptoms - 2', 'Symptoms - 3', 'Other Symptoms']]\n"
      ],
      "metadata": {
        "id": "pPrW2K4eUjXN"
      },
      "execution_count": 6,
      "outputs": []
    },
    {
      "cell_type": "code",
      "source": [
        "symptom_dict = {}"
      ],
      "metadata": {
        "id": "w8TjBk07UzU4"
      },
      "execution_count": 7,
      "outputs": []
    },
    {
      "cell_type": "code",
      "source": [
        "def parse_symptoms(row, symptom_dict):\n",
        "    \"\"\"Parses symptoms from a row and updates the dictionary.\"\"\"\n",
        "    symptoms = {\n",
        "        'Symptoms - 1': row['Symptoms - 1'],\n",
        "        'Symptoms - 2': row['Symptoms - 2'],\n",
        "        'Symptoms - 3': row['Symptoms - 3'],\n",
        "        'Other Symptoms': row['Other Symptoms']\n",
        "    }\n",
        "\n",
        "    for symptom_name, symptom_value in symptoms.items():\n",
        "        if pd.notna(symptom_value):  # Only add non-NaN values\n",
        "            if symptom_name not in symptom_dict:\n",
        "                symptom_dict[symptom_name] = set()\n",
        "            symptom_dict[symptom_name].add(symptom_value)"
      ],
      "metadata": {
        "id": "isfaKDEFU0Un"
      },
      "execution_count": 8,
      "outputs": []
    },
    {
      "cell_type": "code",
      "source": [
        "def display_dict(symptom_dict):\n",
        "    \"\"\"Displays the current state of the symptom dictionary.\"\"\"\n",
        "    for symptom, variations in symptom_dict.items():\n",
        "        print(f\"{symptom}: {', '.join(variations)}\")"
      ],
      "metadata": {
        "id": "3AjYyMROU3YC"
      },
      "execution_count": 16,
      "outputs": []
    },
    {
      "cell_type": "code",
      "source": [],
      "metadata": {
        "id": "HYdmeaskVOT_"
      },
      "execution_count": null,
      "outputs": []
    },
    {
      "cell_type": "code",
      "source": [
        "def check_missing_columns(symptom_dict, expected_columns):\n",
        "    \"\"\"Checks and prints missing columns (loss).\"\"\"\n",
        "    missing_columns = [col for col in expected_columns if col not in symptom_dict]\n",
        "    if missing_columns:\n",
        "        print(f\"Missing columns (Loss): {missing_columns}\")\n",
        "    else:\n",
        "        print(\"All expected columns are present.\")"
      ],
      "metadata": {
        "id": "dDHagIDaU5EO"
      },
      "execution_count": 10,
      "outputs": []
    },
    {
      "cell_type": "code",
      "source": [
        "for _, row in data.iterrows():\n",
        "    parse_symptoms(row, symptom_dict)"
      ],
      "metadata": {
        "id": "nRaU7a6ZU6jx"
      },
      "execution_count": 11,
      "outputs": []
    },
    {
      "cell_type": "code",
      "source": [
        "print(\"Initial Symptom Dictionary:\")\n",
        "display_dict(symptom_dict)"
      ],
      "metadata": {
        "colab": {
          "base_uri": "https://localhost:8080/"
        },
        "id": "rNScl6IsU794",
        "outputId": "1bda69e1-1f22-4ed6-c539-d623c45e1272"
      },
      "execution_count": 12,
      "outputs": [
        {
          "output_type": "stream",
          "name": "stdout",
          "text": [
            "Initial Symptom Dictionary:\n",
            "Symptoms - 1: Fever, Y, Mild\n",
            "Symptoms - 2: N, Cough, Mild\n",
            "Symptoms - 3: N, Mild, Cold\n",
            "Other Symptoms: Vertigo, Nausia, Text, Vertigo, Head Ache, Shivering, Nausia, Body Ache, Sickness\n"
          ]
        }
      ]
    },
    {
      "cell_type": "code",
      "source": [
        "expected_columns = ['Symptoms - 1', 'Symptoms - 2', 'Symptoms - 3', 'Other Symptoms']\n",
        "check_missing_columns(symptom_dict, expected_columns)"
      ],
      "metadata": {
        "colab": {
          "base_uri": "https://localhost:8080/"
        },
        "id": "OPxaCSaFU9YO",
        "outputId": "eb8573b7-f82b-45a7-9e0c-a9d568f5caf3"
      },
      "execution_count": 13,
      "outputs": [
        {
          "output_type": "stream",
          "name": "stdout",
          "text": [
            "All expected columns are present.\n"
          ]
        }
      ]
    },
    {
      "cell_type": "code",
      "source": [
        "for _, row in data.iterrows():\n",
        "    parse_symptoms(row, symptom_dict)\n"
      ],
      "metadata": {
        "id": "Q1g_lOK2U-qC"
      },
      "execution_count": 14,
      "outputs": []
    },
    {
      "cell_type": "code",
      "source": [
        "print(\"\\nEnhanced Symptom Dictionary:\")\n",
        "display_dict(symptom_dict)"
      ],
      "metadata": {
        "colab": {
          "base_uri": "https://localhost:8080/"
        },
        "id": "sKs8kxj2VAUt",
        "outputId": "301a422e-e35b-46d6-efec-4d64eac5e3a7"
      },
      "execution_count": 15,
      "outputs": [
        {
          "output_type": "stream",
          "name": "stdout",
          "text": [
            "\n",
            "Enhanced Symptom Dictionary:\n",
            "Symptoms - 1: Fever, Y, Mild\n",
            "Symptoms - 2: N, Cough, Mild\n",
            "Symptoms - 3: N, Mild, Cold\n",
            "Other Symptoms: Vertigo, Nausia, Text, Vertigo, Head Ache, Shivering, Nausia, Body Ache, Sickness\n"
          ]
        }
      ]
    },
    {
      "cell_type": "code",
      "source": [],
      "metadata": {
        "id": "HPIQGQuSVBkc"
      },
      "execution_count": null,
      "outputs": []
    }
  ]
}