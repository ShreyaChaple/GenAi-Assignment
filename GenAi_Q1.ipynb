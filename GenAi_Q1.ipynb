{
  "nbformat": 4,
  "nbformat_minor": 0,
  "metadata": {
    "colab": {
      "provenance": []
    },
    "kernelspec": {
      "name": "python3",
      "display_name": "Python 3"
    },
    "language_info": {
      "name": "python"
    }
  },
  "cells": [
    {
      "cell_type": "code",
      "execution_count": 2,
      "metadata": {
        "id": "UbQKvasx6syl"
      },
      "outputs": [],
      "source": [
        "import random\n",
        "import pandas as pd"
      ]
    },
    {
      "cell_type": "code",
      "source": [
        "random.seed(42)"
      ],
      "metadata": {
        "id": "OXFh4KrH6-WN"
      },
      "execution_count": 3,
      "outputs": []
    },
    {
      "cell_type": "code",
      "source": [
        "def simulate_transactions(balance, num_transactions):\n",
        "    for _ in range(num_transactions):\n",
        "        transaction_type = random.choice(['deposit', 'withdrawal'])\n",
        "        amount = random.uniform(100, 1000)  # Transaction amount\n",
        "        if transaction_type == 'deposit':\n",
        "            balance += amount\n",
        "        else:\n",
        "            balance = max(0, balance - amount)  # Prevent negative balance\n",
        "    return balance"
      ],
      "metadata": {
        "id": "wPyiSN4f6_D0"
      },
      "execution_count": 4,
      "outputs": []
    },
    {
      "cell_type": "code",
      "source": [
        "accounts = []\n",
        "for i in range(100):\n",
        "    balance = random.uniform(1000, 5000)  # Initial balance\n",
        "    num_transactions = random.randint(1, 10)  # Random number of transactions\n",
        "    final_balance = simulate_transactions(balance, num_transactions)\n",
        "    accounts.append({'Account ID': f'ACC-{i+1}', 'Initial Balance': balance, 'Final Balance': final_balance})"
      ],
      "metadata": {
        "id": "ZGJnOA8o7BpT"
      },
      "execution_count": 5,
      "outputs": []
    },
    {
      "cell_type": "code",
      "source": [
        "df_accounts = pd.DataFrame(accounts)\n",
        "df_sorted_accounts = df_accounts.sort_values(by='Final Balance')"
      ],
      "metadata": {
        "id": "cKdKHL4-7FJF"
      },
      "execution_count": 6,
      "outputs": []
    },
    {
      "cell_type": "code",
      "source": [
        "print(df_sorted_accounts)"
      ],
      "metadata": {
        "colab": {
          "base_uri": "https://localhost:8080/"
        },
        "id": "Ikx5J7NQ7H7_",
        "outputId": "b62ff463-25ff-421a-bce3-552aa7cb6d7e"
      },
      "execution_count": 7,
      "outputs": [
        {
          "output_type": "stream",
          "name": "stdout",
          "text": [
            "   Account ID  Initial Balance  Final Balance\n",
            "99    ACC-100      1721.051692       0.000000\n",
            "34     ACC-35      4205.666407       0.000000\n",
            "73     ACC-74      4146.051244       0.000000\n",
            "81     ACC-82      1886.199026       0.000000\n",
            "36     ACC-37      1256.915403       0.000000\n",
            "..        ...              ...            ...\n",
            "14     ACC-15      4997.129874    5930.860158\n",
            "33     ACC-34      2535.913870    6022.340413\n",
            "48     ACC-49      4330.513453    6261.558839\n",
            "5       ACC-6      4701.564718    6475.205478\n",
            "78     ACC-79      4911.370118    6662.418576\n",
            "\n",
            "[100 rows x 3 columns]\n"
          ]
        }
      ]
    },
    {
      "cell_type": "code",
      "source": [],
      "metadata": {
        "id": "72N21Ujg7KnR"
      },
      "execution_count": null,
      "outputs": []
    }
  ]
}