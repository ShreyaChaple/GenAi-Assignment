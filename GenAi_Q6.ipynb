{
  "nbformat": 4,
  "nbformat_minor": 0,
  "metadata": {
    "colab": {
      "provenance": []
    },
    "kernelspec": {
      "name": "python3",
      "display_name": "Python 3"
    },
    "language_info": {
      "name": "python"
    }
  },
  "cells": [
    {
      "cell_type": "code",
      "execution_count": 1,
      "metadata": {
        "id": "-rzgMR6W2YOz"
      },
      "outputs": [],
      "source": [
        "# Function to parse and evaluate a mathematical equation\n",
        "def evaluate_equation(equation, **params):\n",
        "    for param, value in params.items():\n",
        "        equation = equation.replace(param, str(value))\n",
        "    return eval(equation)"
      ]
    },
    {
      "cell_type": "code",
      "source": [
        "equation = \"a*x**2 + b*x + c\""
      ],
      "metadata": {
        "id": "rPy3OU5t2kVx"
      },
      "execution_count": 3,
      "outputs": []
    },
    {
      "cell_type": "code",
      "source": [
        "params = {\n",
        "    'a': 2,\n",
        "    'b': 3,\n",
        "    'c': 4,\n",
        "    'x': 5\n",
        "}"
      ],
      "metadata": {
        "id": "6QpXaIK02m4I"
      },
      "execution_count": 4,
      "outputs": []
    },
    {
      "cell_type": "code",
      "source": [
        "result = evaluate_equation(equation, **params)"
      ],
      "metadata": {
        "id": "6bR_yMyu2vJe"
      },
      "execution_count": 6,
      "outputs": []
    },
    {
      "cell_type": "code",
      "source": [
        "print(f\"The result of the equation is: {result}\")"
      ],
      "metadata": {
        "colab": {
          "base_uri": "https://localhost:8080/"
        },
        "id": "JOApoIAb2xIP",
        "outputId": "364fa49e-942d-40a2-f630-2776e4554e61"
      },
      "execution_count": 7,
      "outputs": [
        {
          "output_type": "stream",
          "name": "stdout",
          "text": [
            "The result of the equation is: 69\n"
          ]
        }
      ]
    }
  ]
}